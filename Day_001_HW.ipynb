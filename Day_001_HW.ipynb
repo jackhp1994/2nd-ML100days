{
 "cells": [
  {
   "cell_type": "markdown",
   "metadata": {},
   "source": [
    "## 練習時間\n",
    "#### 請寫一個函式用來計算 Mean Square Error\n",
    "$ MSE = \\frac{1}{n}\\sum_{i=1}^{n}{(Y_i - \\hat{Y}_i)^2} $\n",
    "\n",
    "### Hint: [如何取平方](https://googoodesign.gitbooks.io/-ezpython/unit-1.html)"
   ]
  },
  {
   "cell_type": "markdown",
   "metadata": {},
   "source": [
    "作業1:\n",
    "1.美國的職業運動聯盟球員薪水動輒數千萬美元，若能透過資料分析，\n",
    "找出最超值的球員，對於小市場球隊而言，是一個跟大市場球隊拚搏的手段。\n",
    "2.https://www.kaggle.com/wduckett/moneyball-mlb-stats-19622012\n",
    "在kaggle dataset的項目中搜尋moneyball 標題為MoneyballMLB Statistics 1962-2012\n",
    "作者ID WesDuckett 資料上baseball-reference.com都能下載的到\n",
    "3.baseball.csv 為有逗號分隔值的文字檔\n",
    "記錄項目有，聯盟、球隊、年度、打擊率、長打率、勝投、等數據\n",
    "4.此份數據評估的指標可依據分析者所想觀察的項目而有所不同，如：要看球隊投手戰力的績效\n",
    "是否為影響球隊戰績最重要的指標，可將各年度團隊防禦率和球隊例行賽戰績勝場數\n",
    "做二維圖比較是否為正相關\n",
    "\n",
    "作業2:\n",
    "1.欲使自由載客車隊業績提升，即解車隊單日營收總額最大化的問題，假設營業人員符合勞基法，\n",
    "上班時間單日最多八小時，一個月營業21日，外部條件假設不變，如汽油油料成本，工資等\n",
    "2.自由載客車隊管轄下各營業車輛單日載客量、營收、行駛距離、行駛時間、營業地點等，此一資料由各營業人員提供，或參照Uber的方法，\n",
    "紀錄在APP中\n",
    "3.記錄項目有，單日載客量、營收、行駛距離、行駛時間\n",
    "4.以最大化車隊單日營收總額為目標，分別調整各營業人員行駛路線，營業地點等參數，\n",
    "觀察其對營收總額增加的效果"
   ]
  },
  {
   "cell_type": "code",
   "execution_count": 3,
   "metadata": {},
   "outputs": [],
   "source": [
    "import numpy as np\n",
    "import matplotlib.pyplot as plt"
   ]
  },
  {
   "cell_type": "code",
   "execution_count": 6,
   "metadata": {},
   "outputs": [
    {
     "name": "stdout",
     "output_type": "stream",
     "text": [
      "The Mean square error is 7700.124\n"
     ]
    }
   ],
   "source": [
    "import numpy as np\n",
    "import matplotlib.pyplot as plt\n",
    "\n",
    "w = 3\n",
    "b = 0.5\n",
    "\n",
    "x_lin = np.linspace(0, 100, 101)\n",
    "\n",
    "y = (x_lin + np.random.randn(101) * 5) * w + b\n",
    "y_hat = sum(y)/len(y)\n",
    "\n",
    "def mean_squared_error(y,yp):\n",
    "    MSE=sum(abs(y - yp)**2) / len(y)\n",
    "    return MSE\n",
    "MSE= mean_squared_error (y,y_hat)\n",
    "print(\"The Mean square error is %.3f\" % (MSE))"
   ]
  },
  {
   "cell_type": "code",
   "execution_count": null,
   "metadata": {},
   "outputs": [],
   "source": [
    "w = 3\n",
    "b = 0.5\n",
    "\n",
    "x_lin = np.linspace(0, 100, 101)\n",
    "\n",
    "y = (x_lin + np.random.randn(101) * 5) * w + b\n",
    "\n",
    "plt.plot(x_lin, y, 'b.', label = 'data points')\n",
    "plt.title(\"Assume we have data points\")\n",
    "plt.legend(loc = 2)\n",
    "plt.show()"
   ]
  },
  {
   "cell_type": "code",
   "execution_count": null,
   "metadata": {},
   "outputs": [],
   "source": [
    "y_hat = x_lin * w + b\n",
    "plt.plot(x_lin, y, 'b.', label = 'data')\n",
    "plt.plot(x_lin, y_hat, 'r-', label = 'prediction')\n",
    "plt.title(\"Assume we have data points (And the prediction)\")\n",
    "plt.legend(loc = 2)\n",
    "plt.show()"
   ]
  },
  {
   "cell_type": "code",
   "execution_count": null,
   "metadata": {},
   "outputs": [],
   "source": [
    "# 執行 Function, 確認有沒有正常執行\n",
    "MSE = mean_squared_error(y, y_hat)\n",
    "MAE = mean_absolute_error(y, y_hat)\n",
    "print(\"The Mean squared error is %.3f\" % (MSE))\n",
    "print(\"The Mean absolute error is %.3f\" % (MAE))"
   ]
  }
 ],
 "metadata": {
  "anaconda-cloud": {},
  "kernelspec": {
   "display_name": "Python 3",
   "language": "python",
   "name": "python3"
  },
  "language_info": {
   "codemirror_mode": {
    "name": "ipython",
    "version": 3
   },
   "file_extension": ".py",
   "mimetype": "text/x-python",
   "name": "python",
   "nbconvert_exporter": "python",
   "pygments_lexer": "ipython3",
   "version": "3.7.3"
  }
 },
 "nbformat": 4,
 "nbformat_minor": 1
}
